{
 "cells": [
  {
   "cell_type": "code",
   "execution_count": 26,
   "metadata": {
    "collapsed": true
   },
   "outputs": [],
   "source": [
    "import psycopg2\n",
    "import psycopg2.extras\n",
    "from collections import OrderedDict\n",
    "import json\n",
    "import csv\n",
    "import sys\n",
    "import pandas as pd\n",
    "import matplotlib\n",
    "%matplotlib inline\n",
    "import matplotlib.pyplot as plt\n",
    "import os\n",
    "\n",
    "\n",
    "\n",
    "\n"
   ]
  },
  {
   "cell_type": "code",
   "execution_count": 9,
   "metadata": {
    "collapsed": true
   },
   "outputs": [],
   "source": [
    "def connect():\n",
    "    #parameter format for local use\n",
    "    params = {\n",
    "    'dbname':'hmdamaster',\n",
    "    'user':'roellk',\n",
    "    'password':'',\n",
    "    'host':'localhost',}\n",
    "    try:\n",
    "        conn = psycopg2.connect(**params)\n",
    "        print \"i'm connected\"\n",
    "    except psycopg2.Error as e: #if database connection results in an error print the following\n",
    "        print \"I am unable to connect to the database: \", e\n",
    "    return  conn, conn.cursor()#(cursor_factory=psycopg2.extras.DictCursor) #return a dictionary cursor object\n",
    "\n",
    "\n",
    "def pull_FI_LAR(cur, conn, agency, rid, table):\n",
    "    SQL = \"SELECT * FROM {table} WHERE agency = {agency} and rid = {rid}\".format(table = table, rid = rid, agency=agency)\n",
    "    print SQL\n",
    "    SQL = \"SELECT * FROM {table} WHERE concat(agency, rid) ='90000852218'\".format(table=table)\n",
    "    cur.execute(SQL,)\n",
    "    "
   ]
  },
  {
   "cell_type": "code",
   "execution_count": 10,
   "metadata": {
    "collapsed": false
   },
   "outputs": [],
   "source": [
    "\n",
    "LAR_cols = ['year', 'agency', 'rid', 'loan_type', 'property_type', 'loan_purpose', 'occupancy', 'preapproval', 'amount', 'action', 'msa', 'state', 'county', 'tract', 'ethnicity', 'co_ethnicity', 'race1', 'race2', 'race3', 'race4', 'race5', 'co_race1', 'co_race2', 'co_race3', 'co_race4', 'co_race5', \\\n",
    "'sex', 'co_sex', 'income', 'purchaser', 'denial1', 'denial2', 'denial3', 'rate_spread', 'hoepa', 'lien', 'edit_status', 'sequence', 'population', 'min_population_pct', 'median_income', 'tract_to_msa_income_pct', 'num_owner_occ_units', 'num_single_fam_units', 'app_date_ind']\n"
   ]
  },
  {
   "cell_type": "code",
   "execution_count": 11,
   "metadata": {
    "collapsed": false
   },
   "outputs": [
    {
     "name": "stdout",
     "output_type": "stream",
     "text": [
      "i'm connected\n",
      "SELECT * FROM hmdalar2014 WHERE agency = 9 and rid = 0000852218\n"
     ]
    },
    {
     "data": {
      "text/html": [
       "<div>\n",
       "<table border=\"1\" class=\"dataframe\">\n",
       "  <thead>\n",
       "    <tr style=\"text-align: right;\">\n",
       "      <th></th>\n",
       "      <th>year</th>\n",
       "      <th>agency</th>\n",
       "      <th>rid</th>\n",
       "      <th>loan_type</th>\n",
       "      <th>property_type</th>\n",
       "      <th>loan_purpose</th>\n",
       "      <th>occupancy</th>\n",
       "      <th>preapproval</th>\n",
       "      <th>amount</th>\n",
       "      <th>action</th>\n",
       "      <th>...</th>\n",
       "      <th>lien</th>\n",
       "      <th>edit_status</th>\n",
       "      <th>sequence</th>\n",
       "      <th>population</th>\n",
       "      <th>min_population_pct</th>\n",
       "      <th>median_income</th>\n",
       "      <th>tract_to_msa_income_pct</th>\n",
       "      <th>num_owner_occ_units</th>\n",
       "      <th>num_single_fam_units</th>\n",
       "      <th>app_date_ind</th>\n",
       "    </tr>\n",
       "  </thead>\n",
       "  <tbody>\n",
       "    <tr>\n",
       "      <th>0</th>\n",
       "      <td>2014</td>\n",
       "      <td>0000852218</td>\n",
       "      <td>9</td>\n",
       "      <td>1</td>\n",
       "      <td>1</td>\n",
       "      <td>1</td>\n",
       "      <td>1</td>\n",
       "      <td>00870</td>\n",
       "      <td>3</td>\n",
       "      <td>1</td>\n",
       "      <td>...</td>\n",
       "      <td>1</td>\n",
       "      <td></td>\n",
       "      <td>0024228</td>\n",
       "      <td>00006404</td>\n",
       "      <td>029.53</td>\n",
       "      <td>00094800</td>\n",
       "      <td>117.60</td>\n",
       "      <td>00001942</td>\n",
       "      <td>00002250</td>\n",
       "      <td>0</td>\n",
       "    </tr>\n",
       "    <tr>\n",
       "      <th>1</th>\n",
       "      <td>2014</td>\n",
       "      <td>0000852218</td>\n",
       "      <td>9</td>\n",
       "      <td>1</td>\n",
       "      <td>1</td>\n",
       "      <td>3</td>\n",
       "      <td>1</td>\n",
       "      <td>01140</td>\n",
       "      <td>3</td>\n",
       "      <td>3</td>\n",
       "      <td>...</td>\n",
       "      <td>1</td>\n",
       "      <td>6</td>\n",
       "      <td>0024229</td>\n",
       "      <td>00007603</td>\n",
       "      <td>047.32</td>\n",
       "      <td>00094800</td>\n",
       "      <td>122.69</td>\n",
       "      <td>00001832</td>\n",
       "      <td>00002246</td>\n",
       "      <td>0</td>\n",
       "    </tr>\n",
       "    <tr>\n",
       "      <th>2</th>\n",
       "      <td>2014</td>\n",
       "      <td>0000852218</td>\n",
       "      <td>9</td>\n",
       "      <td>1</td>\n",
       "      <td>1</td>\n",
       "      <td>3</td>\n",
       "      <td>1</td>\n",
       "      <td>00540</td>\n",
       "      <td>3</td>\n",
       "      <td>1</td>\n",
       "      <td>...</td>\n",
       "      <td>1</td>\n",
       "      <td></td>\n",
       "      <td>0024230</td>\n",
       "      <td>00006974</td>\n",
       "      <td>034.80</td>\n",
       "      <td>00094800</td>\n",
       "      <td>146.99</td>\n",
       "      <td>00001898</td>\n",
       "      <td>00002141</td>\n",
       "      <td>0</td>\n",
       "    </tr>\n",
       "    <tr>\n",
       "      <th>3</th>\n",
       "      <td>2014</td>\n",
       "      <td>0000852218</td>\n",
       "      <td>9</td>\n",
       "      <td>1</td>\n",
       "      <td>1</td>\n",
       "      <td>3</td>\n",
       "      <td>1</td>\n",
       "      <td>00310</td>\n",
       "      <td>3</td>\n",
       "      <td>1</td>\n",
       "      <td>...</td>\n",
       "      <td>1</td>\n",
       "      <td></td>\n",
       "      <td>0024231</td>\n",
       "      <td>00004350</td>\n",
       "      <td>063.72</td>\n",
       "      <td>00094800</td>\n",
       "      <td>044.61</td>\n",
       "      <td>00000521</td>\n",
       "      <td>00000112</td>\n",
       "      <td>0</td>\n",
       "    </tr>\n",
       "    <tr>\n",
       "      <th>4</th>\n",
       "      <td>2014</td>\n",
       "      <td>0000852218</td>\n",
       "      <td>9</td>\n",
       "      <td>1</td>\n",
       "      <td>1</td>\n",
       "      <td>3</td>\n",
       "      <td>2</td>\n",
       "      <td>00417</td>\n",
       "      <td>3</td>\n",
       "      <td>3</td>\n",
       "      <td>...</td>\n",
       "      <td>1</td>\n",
       "      <td></td>\n",
       "      <td>0024232</td>\n",
       "      <td>00003499</td>\n",
       "      <td>074.36</td>\n",
       "      <td>00094800</td>\n",
       "      <td>040.27</td>\n",
       "      <td>00000345</td>\n",
       "      <td>00000140</td>\n",
       "      <td>0</td>\n",
       "    </tr>\n",
       "  </tbody>\n",
       "</table>\n",
       "<p>5 rows × 45 columns</p>\n",
       "</div>"
      ],
      "text/plain": [
       "   year      agency rid loan_type property_type loan_purpose occupancy  \\\n",
       "0  2014  0000852218   9         1             1            1         1   \n",
       "1  2014  0000852218   9         1             1            3         1   \n",
       "2  2014  0000852218   9         1             1            3         1   \n",
       "3  2014  0000852218   9         1             1            3         1   \n",
       "4  2014  0000852218   9         1             1            3         2   \n",
       "\n",
       "  preapproval amount action     ...      lien edit_status sequence population  \\\n",
       "0       00870      3      1     ...         1              0024228   00006404   \n",
       "1       01140      3      3     ...         1           6  0024229   00007603   \n",
       "2       00540      3      1     ...         1              0024230   00006974   \n",
       "3       00310      3      1     ...         1              0024231   00004350   \n",
       "4       00417      3      3     ...         1              0024232   00003499   \n",
       "\n",
       "  min_population_pct median_income tract_to_msa_income_pct  \\\n",
       "0             029.53      00094800                  117.60   \n",
       "1             047.32      00094800                  122.69   \n",
       "2             034.80      00094800                  146.99   \n",
       "3             063.72      00094800                  044.61   \n",
       "4             074.36      00094800                  040.27   \n",
       "\n",
       "  num_owner_occ_units num_single_fam_units app_date_ind  \n",
       "0            00001942             00002250            0  \n",
       "1            00001832             00002246            0  \n",
       "2            00001898             00002141            0  \n",
       "3            00000521             00000112            0  \n",
       "4            00000345             00000140            0  \n",
       "\n",
       "[5 rows x 45 columns]"
      ]
     },
     "execution_count": 11,
     "metadata": {},
     "output_type": "execute_result"
    }
   ],
   "source": [
    "conn, cur = connect()\n",
    "pull_FI_LAR(cur, conn, '9', '0000852218', 'hmdalar2014')\n",
    "LAR_df = pd.DataFrame(cur.fetchall())\n"
   ]
  },
  {
   "cell_type": "code",
   "execution_count": 12,
   "metadata": {
    "collapsed": false
   },
   "outputs": [
    {
     "data": {
      "text/html": [
       "<div>\n",
       "<table border=\"1\" class=\"dataframe\">\n",
       "  <thead>\n",
       "    <tr style=\"text-align: right;\">\n",
       "      <th></th>\n",
       "      <th>year</th>\n",
       "      <th>agency</th>\n",
       "      <th>rid</th>\n",
       "      <th>loan_type</th>\n",
       "      <th>property_type</th>\n",
       "      <th>loan_purpose</th>\n",
       "      <th>occupancy</th>\n",
       "      <th>preapproval</th>\n",
       "      <th>amount</th>\n",
       "      <th>action</th>\n",
       "      <th>...</th>\n",
       "      <th>lien</th>\n",
       "      <th>edit_status</th>\n",
       "      <th>sequence</th>\n",
       "      <th>population</th>\n",
       "      <th>min_population_pct</th>\n",
       "      <th>median_income</th>\n",
       "      <th>tract_to_msa_income_pct</th>\n",
       "      <th>num_owner_occ_units</th>\n",
       "      <th>num_single_fam_units</th>\n",
       "      <th>app_date_ind</th>\n",
       "    </tr>\n",
       "  </thead>\n",
       "  <tbody>\n",
       "    <tr>\n",
       "      <th>0</th>\n",
       "      <td>2014</td>\n",
       "      <td>0000852218</td>\n",
       "      <td>9</td>\n",
       "      <td>1</td>\n",
       "      <td>1</td>\n",
       "      <td>1</td>\n",
       "      <td>1</td>\n",
       "      <td>00870</td>\n",
       "      <td>3</td>\n",
       "      <td>1</td>\n",
       "      <td>...</td>\n",
       "      <td>1</td>\n",
       "      <td></td>\n",
       "      <td>0024228</td>\n",
       "      <td>00006404</td>\n",
       "      <td>029.53</td>\n",
       "      <td>00094800</td>\n",
       "      <td>117.60</td>\n",
       "      <td>00001942</td>\n",
       "      <td>00002250</td>\n",
       "      <td>0</td>\n",
       "    </tr>\n",
       "    <tr>\n",
       "      <th>1</th>\n",
       "      <td>2014</td>\n",
       "      <td>0000852218</td>\n",
       "      <td>9</td>\n",
       "      <td>1</td>\n",
       "      <td>1</td>\n",
       "      <td>3</td>\n",
       "      <td>1</td>\n",
       "      <td>01140</td>\n",
       "      <td>3</td>\n",
       "      <td>3</td>\n",
       "      <td>...</td>\n",
       "      <td>1</td>\n",
       "      <td>6</td>\n",
       "      <td>0024229</td>\n",
       "      <td>00007603</td>\n",
       "      <td>047.32</td>\n",
       "      <td>00094800</td>\n",
       "      <td>122.69</td>\n",
       "      <td>00001832</td>\n",
       "      <td>00002246</td>\n",
       "      <td>0</td>\n",
       "    </tr>\n",
       "    <tr>\n",
       "      <th>2</th>\n",
       "      <td>2014</td>\n",
       "      <td>0000852218</td>\n",
       "      <td>9</td>\n",
       "      <td>1</td>\n",
       "      <td>1</td>\n",
       "      <td>3</td>\n",
       "      <td>1</td>\n",
       "      <td>00540</td>\n",
       "      <td>3</td>\n",
       "      <td>1</td>\n",
       "      <td>...</td>\n",
       "      <td>1</td>\n",
       "      <td></td>\n",
       "      <td>0024230</td>\n",
       "      <td>00006974</td>\n",
       "      <td>034.80</td>\n",
       "      <td>00094800</td>\n",
       "      <td>146.99</td>\n",
       "      <td>00001898</td>\n",
       "      <td>00002141</td>\n",
       "      <td>0</td>\n",
       "    </tr>\n",
       "    <tr>\n",
       "      <th>3</th>\n",
       "      <td>2014</td>\n",
       "      <td>0000852218</td>\n",
       "      <td>9</td>\n",
       "      <td>1</td>\n",
       "      <td>1</td>\n",
       "      <td>3</td>\n",
       "      <td>1</td>\n",
       "      <td>00310</td>\n",
       "      <td>3</td>\n",
       "      <td>1</td>\n",
       "      <td>...</td>\n",
       "      <td>1</td>\n",
       "      <td></td>\n",
       "      <td>0024231</td>\n",
       "      <td>00004350</td>\n",
       "      <td>063.72</td>\n",
       "      <td>00094800</td>\n",
       "      <td>044.61</td>\n",
       "      <td>00000521</td>\n",
       "      <td>00000112</td>\n",
       "      <td>0</td>\n",
       "    </tr>\n",
       "    <tr>\n",
       "      <th>4</th>\n",
       "      <td>2014</td>\n",
       "      <td>0000852218</td>\n",
       "      <td>9</td>\n",
       "      <td>1</td>\n",
       "      <td>1</td>\n",
       "      <td>3</td>\n",
       "      <td>2</td>\n",
       "      <td>00417</td>\n",
       "      <td>3</td>\n",
       "      <td>3</td>\n",
       "      <td>...</td>\n",
       "      <td>1</td>\n",
       "      <td></td>\n",
       "      <td>0024232</td>\n",
       "      <td>00003499</td>\n",
       "      <td>074.36</td>\n",
       "      <td>00094800</td>\n",
       "      <td>040.27</td>\n",
       "      <td>00000345</td>\n",
       "      <td>00000140</td>\n",
       "      <td>0</td>\n",
       "    </tr>\n",
       "  </tbody>\n",
       "</table>\n",
       "<p>5 rows × 45 columns</p>\n",
       "</div>"
      ],
      "text/plain": [
       "   year      agency rid loan_type property_type loan_purpose occupancy  \\\n",
       "0  2014  0000852218   9         1             1            1         1   \n",
       "1  2014  0000852218   9         1             1            3         1   \n",
       "2  2014  0000852218   9         1             1            3         1   \n",
       "3  2014  0000852218   9         1             1            3         1   \n",
       "4  2014  0000852218   9         1             1            3         2   \n",
       "\n",
       "  preapproval amount action     ...      lien edit_status sequence population  \\\n",
       "0       00870      3      1     ...         1              0024228   00006404   \n",
       "1       01140      3      3     ...         1           6  0024229   00007603   \n",
       "2       00540      3      1     ...         1              0024230   00006974   \n",
       "3       00310      3      1     ...         1              0024231   00004350   \n",
       "4       00417      3      3     ...         1              0024232   00003499   \n",
       "\n",
       "  min_population_pct median_income tract_to_msa_income_pct  \\\n",
       "0             029.53      00094800                  117.60   \n",
       "1             047.32      00094800                  122.69   \n",
       "2             034.80      00094800                  146.99   \n",
       "3             063.72      00094800                  044.61   \n",
       "4             074.36      00094800                  040.27   \n",
       "\n",
       "  num_owner_occ_units num_single_fam_units app_date_ind  \n",
       "0            00001942             00002250            0  \n",
       "1            00001832             00002246            0  \n",
       "2            00001898             00002141            0  \n",
       "3            00000521             00000112            0  \n",
       "4            00000345             00000140            0  \n",
       "\n",
       "[5 rows x 45 columns]"
      ]
     },
     "execution_count": 12,
     "metadata": {},
     "output_type": "execute_result"
    }
   ],
   "source": [
    "LAR_df.columns= LAR_cols\n",
    "LAR_df.head()"
   ]
  },
  {
   "cell_type": "code",
   "execution_count": 16,
   "metadata": {
    "collapsed": false
   },
   "outputs": [
    {
     "name": "stdout",
     "output_type": "stream",
     "text": [
      "Index([u'year', u'agency', u'rid', u'loan_type', u'property_type',\n",
      "       u'loan_purpose', u'occupancy', u'preapproval', u'amount', u'action',\n",
      "       u'msa', u'state', u'county', u'tract', u'ethnicity', u'co_ethnicity',\n",
      "       u'race1', u'race2', u'race3', u'race4', u'race5', u'co_race1',\n",
      "       u'co_race2', u'co_race3', u'co_race4', u'co_race5', u'sex', u'co_sex',\n",
      "       u'income', u'purchaser', u'denial1', u'denial2', u'denial3',\n",
      "       u'rate_spread', u'hoepa', u'lien', u'edit_status', u'sequence',\n",
      "       u'population', u'min_population_pct', u'median_income',\n",
      "       u'tract_to_msa_income_pct', u'num_owner_occ_units',\n",
      "       u'num_single_fam_units', u'app_date_ind'],\n",
      "      dtype='object')\n"
     ]
    }
   ],
   "source": [
    "print LAR_df.columns"
   ]
  },
  {
   "cell_type": "code",
   "execution_count": 131,
   "metadata": {
    "collapsed": false
   },
   "outputs": [
    {
     "name": "stdout",
     "output_type": "stream",
     "text": [
      "  Property_Type  App_Count          label\n",
      "0             1     434574  Single_Family\n",
      "1             2        765   Manufactured\n",
      "2             3       6460   Multi_Family\n"
     ]
    },
    {
     "data": {
      "image/png": "[encoded data removed]",
      "text/plain": [
       "<matplotlib.figure.Figure at 0x150819790>"
      ]
     },
     "metadata": {},
     "output_type": "display_data"
    }
   ],
   "source": [
    "#Application mix by product type\n",
    "app_mix_df = pd.DataFrame(LAR_df.groupby('property_type').size())\n",
    "app_mix_df.reset_index(inplace=True)\n",
    "app_mix_df.columns = ['Property_Type', 'App_Count']\n",
    "prop_types = ['Single_Family', 'Manufactured', 'Multi_Family']\n",
    "app_mix_df['Label']= prop_types\n",
    "ax = app_mix_df.plot(kind='bar', title='App Count by Property Type')\n",
    "ax.set_xticklabels(app_mix_df.Label)\n"
   ]
  },
  {
   "cell_type": "code",
   "execution_count": 138,
   "metadata": {
    "collapsed": false
   },
   "outputs": [
    {
     "data": {
      "text/plain": [
       "[<matplotlib.text.Text at 0x1513a0350>,\n",
       " <matplotlib.text.Text at 0x151416110>,\n",
       " <matplotlib.text.Text at 0x1515421d0>]"
      ]
     },
     "execution_count": 138,
     "metadata": {},
     "output_type": "execute_result"
    },
    {
     "data": {
      "image/png": "[encoded data removed]",
      "text/plain": [
       "<matplotlib.figure.Figure at 0x15122b890>"
      ]
     },
     "metadata": {},
     "output_type": "display_data"
    }
   ],
   "source": [
    "#Application count by housing type for PURCHASE LOANS\n",
    "purch_mix_df = pd.DataFrame(LAR_df[LAR_df['loan_purpose']=='1'].groupby('property_type').size())\n",
    "purch_mix_df.reset_index(inplace=True)\n",
    "purch_mix_df['Label'] = prop_types\n",
    "purch_mix_df.columns = ['Property_Type', 'App_Count', 'Label']\n",
    "ax=purch_mix_df.plot(kind='bar', title='Purchase Applications by Property Type')\n",
    "ax.set_xticklabels(purch_mix_df.Label)\n"
   ]
  },
  {
   "cell_type": "code",
   "execution_count": 174,
   "metadata": {
    "collapsed": false
   },
   "outputs": [
    {
     "name": "stdout",
     "output_type": "stream",
     "text": [
      "  Property_Type  App_Count          Label\n",
      "0             1     183998  Single_Family\n",
      "1             2        239   Manufactured\n",
      "2             3       2436   Multi_Family\n"
     ]
    },
    {
     "data": {
      "image/png": "[encoded data removed]",
      "text/plain": [
       "<matplotlib.figure.Figure at 0x151dce110>"
      ]
     },
     "metadata": {},
     "output_type": "display_data"
    }
   ],
   "source": [
    "#Application count by housing type for REFINANCE LOANS\n",
    "refi_mix_df = pd.DataFrame(LAR_df[LAR_df['loan_purpose']=='3'].groupby('property_type').size())\n",
    "refi_mix_df.reset_index(inplace=True)\n",
    "refi_mix_df['Label'] = prop_types\n",
    "refi_mix_df.columns = ['Property_Type', 'App_Count', 'Label']\n",
    "ax=refi_mix_df.plot(kind='bar', title='Refinance Applications by Property Type')\n",
    "ax.set_xticklabels(refi_mix_df.Label)\n",
    "print refi_mix_df\n"
   ]
  },
  {
   "cell_type": "code",
   "execution_count": 141,
   "metadata": {
    "collapsed": false
   },
   "outputs": [
    {
     "data": {
      "text/plain": [
       "[<matplotlib.text.Text at 0x1510c2d10>,\n",
       " <matplotlib.text.Text at 0x151097c10>,\n",
       " <matplotlib.text.Text at 0x169767ed0>]"
      ]
     },
     "execution_count": 141,
     "metadata": {},
     "output_type": "execute_result"
    },
    {
     "data": {
      "image/png": "[encoded data removed]",
      "text/plain": [
       "<matplotlib.figure.Figure at 0x151542490>"
      ]
     },
     "metadata": {},
     "output_type": "display_data"
    }
   ],
   "source": [
    "#Application count by housing type for HOME IMPROVEMENT LOANS\n",
    "hi_mix_df = pd.DataFrame(LAR_df[LAR_df['loan_purpose']=='2'].groupby('property_type').size())\n",
    "hi_mix_df.reset_index(inplace=True)\n",
    "hi_mix_df['Label'] = prop_types\n",
    "hi_mix_df.columns = ['Property_Type', 'App_Count', 'Label']\n",
    "ax=hi_mix_df.plot(kind='bar', title='Home Improvmeent Applications by Property Type')\n",
    "ax.set_xticklabels(hi_mix_df.Label)"
   ]
  },
  {
   "cell_type": "code",
   "execution_count": 147,
   "metadata": {
    "collapsed": false
   },
   "outputs": [
    {
     "data": {
      "text/plain": [
       "[<matplotlib.text.Text at 0x150113090>,\n",
       " <matplotlib.text.Text at 0x1501c2110>,\n",
       " <matplotlib.text.Text at 0x1506649d0>]"
      ]
     },
     "execution_count": 147,
     "metadata": {},
     "output_type": "execute_result"
    },
    {
     "data": {
      "image/png": "[encoded data removed]",
      "text/plain": [
       "<matplotlib.figure.Figure at 0x163b8d850>"
      ]
     },
     "metadata": {},
     "output_type": "display_data"
    }
   ],
   "source": [
    "#Origination count by housing type for PURCHASE LOANS\n",
    "O_purch_mix_df = pd.DataFrame(LAR_df[(LAR_df['loan_purpose']=='1')&(LAR_df['action']=='1')].groupby('property_type').size())\n",
    "O_purch_mix_df.reset_index(inplace=True)\n",
    "O_purch_mix_df['Label'] = prop_types\n",
    "O_purch_mix_df.columns = ['Property_Type', 'Loan_count', 'Label']\n",
    "ax= O_purch_mix_df.plot(kind='bar', title='Originated Purchase loans by Property Type')\n",
    "ax.set_xticklabels(O_purch_mix_df.Label)"
   ]
  },
  {
   "cell_type": "code",
   "execution_count": 160,
   "metadata": {
    "collapsed": false
   },
   "outputs": [
    {
     "name": "stdout",
     "output_type": "stream",
     "text": [
      "  Property_Type  App_Count          Label\n",
      "0             1     246336  Single_Family\n",
      "1             2        520   Manufactured\n",
      "2             3       3103   Multi_Family\n",
      "  Property_Type  Loan_count          Label  Orig_Rate\n",
      "0             1       57591  Single_Family   0.233790\n",
      "1             2           3   Manufactured   0.005769\n",
      "2             3        2729   Multi_Family   0.879471\n"
     ]
    },
    {
     "data": {
      "text/html": [
       "<div>\n",
       "<table border=\"1\" class=\"dataframe\">\n",
       "  <thead>\n",
       "    <tr style=\"text-align: right;\">\n",
       "      <th></th>\n",
       "      <th>Property_Type</th>\n",
       "      <th>Loan_count</th>\n",
       "      <th>Label</th>\n",
       "      <th>Orig_Rate</th>\n",
       "      <th>App_Count</th>\n",
       "    </tr>\n",
       "  </thead>\n",
       "  <tbody>\n",
       "    <tr>\n",
       "      <th>0</th>\n",
       "      <td>1</td>\n",
       "      <td>57591</td>\n",
       "      <td>Single_Family</td>\n",
       "      <td>0.233790</td>\n",
       "      <td>246336</td>\n",
       "    </tr>\n",
       "    <tr>\n",
       "      <th>1</th>\n",
       "      <td>2</td>\n",
       "      <td>3</td>\n",
       "      <td>Manufactured</td>\n",
       "      <td>0.005769</td>\n",
       "      <td>520</td>\n",
       "    </tr>\n",
       "    <tr>\n",
       "      <th>2</th>\n",
       "      <td>3</td>\n",
       "      <td>2729</td>\n",
       "      <td>Multi_Family</td>\n",
       "      <td>0.879471</td>\n",
       "      <td>3103</td>\n",
       "    </tr>\n",
       "  </tbody>\n",
       "</table>\n",
       "</div>"
      ],
      "text/plain": [
       "  Property_Type  Loan_count          Label  Orig_Rate  App_Count\n",
       "0             1       57591  Single_Family   0.233790     246336\n",
       "1             2           3   Manufactured   0.005769        520\n",
       "2             3        2729   Multi_Family   0.879471       3103"
      ]
     },
     "execution_count": 160,
     "metadata": {},
     "output_type": "execute_result"
    }
   ],
   "source": [
    "#build a dataframe of application and origination counts by property type for PURCHASE\n",
    "#determine origination rate by property type\n",
    "O_purch_mix_df['App_Count'] = purch_mix_df['App_Count']\n",
    "O_purch_mix_df['Orig_Rate']= O_purch_mix_df['Loan_count'].div(purch_mix_df['App_Count'])\n",
    "O_purch_mix_df"
   ]
  },
  {
   "cell_type": "code",
   "execution_count": 235,
   "metadata": {
    "collapsed": false
   },
   "outputs": [
    {
     "name": "stdout",
     "output_type": "stream",
     "text": [
      "  Property_Type  Loan_Count          Label\n",
      "0             1       80116  Single_Family\n",
      "1             3        2161   Manufactured\n",
      "2             2           0   Multi_Family\n"
     ]
    },
    {
     "name": "stderr",
     "output_type": "stream",
     "text": [
      "/Users/roellk/homebrew/lib/python2.7/site-packages/ipykernel/__main__.py:11: FutureWarning: sort(columns=....) is deprecated, use sort_values(by=.....)\n"
     ]
    },
    {
     "data": {
      "image/png": "[encoded data removed]",
      "text/plain": [
       "<matplotlib.figure.Figure at 0x1508f4f10>"
      ]
     },
     "metadata": {},
     "output_type": "display_data"
    }
   ],
   "source": [
    "#Origination count by property type for REFINANCES\n",
    "O_refi_mix_df = pd.DataFrame(LAR_df[(LAR_df['loan_purpose']=='3') &(LAR_df['action']=='1')].groupby('property_type').size())\n",
    "O_refi_mix_df.reset_index(inplace=True)\n",
    "O_refi_mix_df.loc[2] = [2, 0]\n",
    "\n",
    "\n",
    "\n",
    "\n",
    "O_refi_mix_df['Label'] = prop_types\n",
    "O_refi_mix_df.columns = ['Property_Type', 'Loan_Count', 'Label']\n",
    "O_refi_mix_df.sort('Loan_Count', inplace=True, ascending=False)\n",
    "ax=O_refi_mix_df.plot(kind='bar', title='Refinance Applications by Property Type')\n",
    "ax.set_xticklabels(O_refi_mix_df.Label)\n",
    "print O_refi_mix_df"
   ]
  },
  {
   "cell_type": "code",
   "execution_count": 236,
   "metadata": {
    "collapsed": false
   },
   "outputs": [
    {
     "data": {
      "text/html": [
       "<div>\n",
       "<table border=\"1\" class=\"dataframe\">\n",
       "  <thead>\n",
       "    <tr style=\"text-align: right;\">\n",
       "      <th></th>\n",
       "      <th>Property_Type</th>\n",
       "      <th>Loan_Count</th>\n",
       "      <th>App_Count</th>\n",
       "      <th>Label</th>\n",
       "      <th>Orig_Rate</th>\n",
       "    </tr>\n",
       "  </thead>\n",
       "  <tbody>\n",
       "    <tr>\n",
       "      <th>0</th>\n",
       "      <td>1</td>\n",
       "      <td>80116</td>\n",
       "      <td>183998</td>\n",
       "      <td>Single_Family</td>\n",
       "      <td>0.435418</td>\n",
       "    </tr>\n",
       "    <tr>\n",
       "      <th>1</th>\n",
       "      <td>3</td>\n",
       "      <td>2161</td>\n",
       "      <td>2436</td>\n",
       "      <td>Multi_Family</td>\n",
       "      <td>0.887110</td>\n",
       "    </tr>\n",
       "    <tr>\n",
       "      <th>2</th>\n",
       "      <td>2</td>\n",
       "      <td>0</td>\n",
       "      <td>NaN</td>\n",
       "      <td>NaN</td>\n",
       "      <td>NaN</td>\n",
       "    </tr>\n",
       "    <tr>\n",
       "      <th>3</th>\n",
       "      <td>2</td>\n",
       "      <td>NaN</td>\n",
       "      <td>239</td>\n",
       "      <td>Manufactured</td>\n",
       "      <td>NaN</td>\n",
       "    </tr>\n",
       "  </tbody>\n",
       "</table>\n",
       "</div>"
      ],
      "text/plain": [
       "  Property_Type  Loan_Count  App_Count          Label  Orig_Rate\n",
       "0             1       80116     183998  Single_Family   0.435418\n",
       "1             3        2161       2436   Multi_Family   0.887110\n",
       "2             2           0        NaN            NaN        NaN\n",
       "3             2         NaN        239   Manufactured        NaN"
      ]
     },
     "execution_count": 236,
     "metadata": {},
     "output_type": "execute_result"
    }
   ],
   "source": [
    "#build a dataframe of application and origination counts by property type for REFINANCE\n",
    "#determine origination rate by property type\n",
    "#FIXME extra property type rows to delte, where are they from?!\n",
    "del O_refi_mix_df['Label'] #remove duplicate field prior to merge\n",
    "O_refi_mix_df = pd.merge(O_refi_mix_df, refi_mix_df, on='Property_Type', how='outer')\n",
    "O_refi_mix_df['Orig_Rate']= O_refi_mix_df['Loan_Count'].div(O_refi_mix_df['App_Count'], axis = 0)\n",
    "O_refi_mix_df\n"
   ]
  },
  {
   "cell_type": "code",
   "execution_count": 188,
   "metadata": {
    "collapsed": true
   },
   "outputs": [],
   "source": [
    "#below this is older work"
   ]
  },
  {
   "cell_type": "code",
   "execution_count": 113,
   "metadata": {
    "collapsed": false
   },
   "outputs": [
    {
     "name": "stdout",
     "output_type": "stream",
     "text": [
      "  Action  Count_1-4_Fam\n",
      "0      1          51467\n",
      "1      2            289\n",
      "2      3          13822\n",
      "3      4           5497\n",
      "4      5           2166\n"
     ]
    },
    {
     "data": {
      "text/plain": [
       "[<matplotlib.text.Text at 0x16947f5d0>,\n",
       " <matplotlib.text.Text at 0x169737ed0>,\n",
       " <matplotlib.text.Text at 0x1565d0890>,\n",
       " <matplotlib.text.Text at 0x167f39a10>,\n",
       " <matplotlib.text.Text at 0x158c88a10>]"
      ]
     },
     "execution_count": 113,
     "metadata": {},
     "output_type": "execute_result"
    },
    {
     "data": {
      "image/png": "[encoded data removed]",
      "text/plain": [
       "<matplotlib.figure.Figure at 0x16c2b4450>"
      ]
     },
     "metadata": {},
     "output_type": "display_data"
    }
   ],
   "source": [
    "#For action type displays without loan type\n",
    "single_family_purchase_df = LAR_df[(LAR_df['property_type']=='1') & (LAR_df['loan_purpose']=='1')\n",
    "      & (LAR_df['lien']=='1') & (LAR_df['occupancy']=='1')]\n",
    "single_purchase = single_family_purchase_df.groupby('action').size()\n",
    "single_purchase = pd.DataFrame(single_purchase)\n",
    "single_purchase.reset_index(inplace=True)\n",
    "single_purchase.columns = ['Action', 'Count_1-4_Fam']\n",
    "print single_purchase\n",
    "ax = single_purchase.plot(kind='bar', title='Counts of Action Taken for 1-4 Family Loans')\n",
    "ax.set_xticklabels(single_purchase.Action)\n",
    "#ax = by_assignee_df.plot( kind='barh', color=[colors[col] for col in sprint_status_df.columns[1:]], title=sprint+\": issues by assignee\", figsize=(9,9))\n",
    "#\tax.set_yticklabels(by_assignee_df.issue_assignee)"
   ]
  },
  {
   "cell_type": "code",
   "execution_count": null,
   "metadata": {
    "collapsed": false
   },
   "outputs": [],
   "source": []
  },
  {
   "cell_type": "code",
   "execution_count": 119,
   "metadata": {
    "collapsed": false
   },
   "outputs": [
    {
     "data": {
      "text/plain": [
       "[<matplotlib.text.Text at 0x150d7f610>,\n",
       " <matplotlib.text.Text at 0x150d9a610>,\n",
       " <matplotlib.text.Text at 0x150e37290>,\n",
       " <matplotlib.text.Text at 0x150e379d0>]"
      ]
     },
     "execution_count": 119,
     "metadata": {},
     "output_type": "execute_result"
    },
    {
     "data": {
      "image/png": "[encoded data removed]",
      "text/plain": [
       "<matplotlib.figure.Figure at 0x164c06250>"
      ]
     },
     "metadata": {},
     "output_type": "display_data"
    },
    {
     "data": {
      "image/png": "[encoded data removed]",
      "text/plain": [
       "<matplotlib.figure.Figure at 0x15037ee50>"
      ]
     },
     "metadata": {},
     "output_type": "display_data"
    }
   ],
   "source": [
    "#originated portfolio of loans\n",
    "#single_family_purchase_df.groupby('loan_type').size().plot(kind='bar')\n",
    "single_loan_orig = single_family_purchase_df[single_family_purchase_df['action']=='1'].groupby('loan_type').size()\n",
    "single_loan_orig_df = pd.DataFrame(single_loan_type)\n",
    "single_loan_orig_df.reset_index(inplace=True)\n",
    "single_loan_orig_df.columns = ['Action', 'Count_of_loan_type']\n",
    "ax = single_loan_orig_df.plot(kind='bar', title='Count of Originated Loans by Loan Type')\n",
    "ax.set_xticklabels(single_loan_orig_df.Action)\n",
    "#kept, not sold, portfolio of loans - this seems to be all of them\n",
    "\n",
    "#applications by type\n",
    "single_loan_apps = single_family_purchase_df.groupby('loan_type').size()\n",
    "single_loan_apps_df = pd.DataFrame(single_loan_apps)\n",
    "single_loan_apps_df.reset_index(inplace=True)\n",
    "single_loan_apps_df.columns=['Action', 'Loan_Type_Count']\n",
    "ax=single_loan_apps_df.plot(kind='bar', title='Application Count by Type')\n",
    "ax.set_xticklabels(single_loan_apps_df.Action)"
   ]
  },
  {
   "cell_type": "code",
   "execution_count": null,
   "metadata": {
    "collapsed": false
   },
   "outputs": [],
   "source": []
  },
  {
   "cell_type": "code",
   "execution_count": 41,
   "metadata": {
    "collapsed": true
   },
   "outputs": [],
   "source": []
  },
  {
   "cell_type": "code",
   "execution_count": 88,
   "metadata": {
    "collapsed": false
   },
   "outputs": [
    {
     "data": {
      "text/plain": [
       "<matplotlib.axes._subplots.AxesSubplot at 0x155e4dd90>"
      ]
     },
     "execution_count": 88,
     "metadata": {},
     "output_type": "execute_result"
    },
    {
     "data": {
      "image/png": "[encoded data removed]",
      "text/plain": [
       "<matplotlib.figure.Figure at 0x166244050>"
      ]
     },
     "metadata": {},
     "output_type": "display_data"
    }
   ],
   "source": [
    "multifam_purchase_df = LAR_df[(LAR_df['property_type']=='3') & (LAR_df['loan_purpose']=='1') &\n",
    "                              (LAR_df['lien']=='1')]\n",
    "\n",
    "multi_purchase = multifam_purchase_df.groupby('action').size()\n",
    "multi_purchase = pd.DataFrame(multi_purchase)\n",
    "multi_purchase.reset_index(inplace=True)\n",
    "multi_purchase.columns = ['Action', 'Count_Multi']\n",
    "multi_purchase\n",
    "multi_purchase.plot(kind='bar')\n",
    "#add labels of action type to dataframe"
   ]
  },
  {
   "cell_type": "code",
   "execution_count": 72,
   "metadata": {
    "collapsed": false
   },
   "outputs": [],
   "source": [
    "\n",
    "\n"
   ]
  },
  {
   "cell_type": "code",
   "execution_count": null,
   "metadata": {
    "collapsed": false
   },
   "outputs": [],
   "source": []
  },
  {
   "cell_type": "code",
   "execution_count": null,
   "metadata": {
    "collapsed": false
   },
   "outputs": [],
   "source": []
  },
  {
   "cell_type": "code",
   "execution_count": null,
   "metadata": {
    "collapsed": true
   },
   "outputs": [],
   "source": []
  }
 ],
 "metadata": {
  "kernelspec": {
   "display_name": "Python 2",
   "language": "python",
   "name": "python2"
  },
  "language_info": {
   "codemirror_mode": {
    "name": "ipython",
    "version": 2
   },
   "file_extension": ".py",
   "mimetype": "text/x-python",
   "name": "python",
   "nbconvert_exporter": "python",
   "pygments_lexer": "ipython2",
   "version": "2.7.10"
  }
 },
 "nbformat": 4,
 "nbformat_minor": 0
}
