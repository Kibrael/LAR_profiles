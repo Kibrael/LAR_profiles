{
 "cells": [
  {
   "cell_type": "code",
   "execution_count": 26,
   "metadata": {
    "collapsed": true
   },
   "outputs": [],
   "source": [
    "import psycopg2\n",
    "import psycopg2.extras\n",
    "from collections import OrderedDict\n",
    "import json\n",
    "import csv\n",
    "import sys\n",
    "import pandas as pd\n",
    "import matplotlib\n",
    "%matplotlib inline\n",
    "import matplotlib.pyplot as plt\n",
    "import os\n",
    "\n",
    "\n",
    "\n",
    "\n"
   ]
  },
  {
   "cell_type": "code",
   "execution_count": 9,
   "metadata": {
    "collapsed": true
   },
   "outputs": [],
   "source": [
    "def connect():\n",
    "    #parameter format for local use\n",
    "    params = {\n",
    "    'dbname':'hmdamaster',\n",
    "    'user':'roellk',\n",
    "    'password':'',\n",
    "    'host':'localhost',}\n",
    "    try:\n",
    "        conn = psycopg2.connect(**params)\n",
    "        print \"i'm connected\"\n",
    "    except psycopg2.Error as e: #if database connection results in an error print the following\n",
    "        print \"I am unable to connect to the database: \", e\n",
    "    return  conn, conn.cursor()#(cursor_factory=psycopg2.extras.DictCursor) #return a dictionary cursor object\n",
    "\n",
    "\n",
    "def pull_FI_LAR(cur, conn, agency, rid, table):\n",
    "    SQL = \"SELECT * FROM {table} WHERE agency = {agency} and rid = {rid}\".format(table = table, rid = rid, agency=agency)\n",
    "    print SQL\n",
    "    SQL = \"SELECT * FROM {table} WHERE concat(agency, rid) ='90000852218'\".format(table=table)\n",
    "    cur.execute(SQL,)\n",
    "    "
   ]
  },
  {
   "cell_type": "code",
   "execution_count": 10,
   "metadata": {
    "collapsed": false
   },
   "outputs": [],
   "source": [
    "\n",
    "LAR_cols = ['year', 'agency', 'rid', 'loan_type', 'property_type', 'loan_purpose', 'occupancy', 'preapproval', 'amount', 'action', 'msa', 'state', 'county', 'tract', 'ethnicity', 'co_ethnicity', 'race1', 'race2', 'race3', 'race4', 'race5', 'co_race1', 'co_race2', 'co_race3', 'co_race4', 'co_race5', \\\n",
    "'sex', 'co_sex', 'income', 'purchaser', 'denial1', 'denial2', 'denial3', 'rate_spread', 'hoepa', 'lien', 'edit_status', 'sequence', 'population', 'min_population_pct', 'median_income', 'tract_to_msa_income_pct', 'num_owner_occ_units', 'num_single_fam_units', 'app_date_ind']\n"
   ]
  },
  {
   "cell_type": "code",
   "execution_count": 11,
   "metadata": {
    "collapsed": false
   },
   "outputs": [
    {
     "name": "stdout",
     "output_type": "stream",
     "text": [
      "i'm connected\n",
      "SELECT * FROM hmdalar2014 WHERE agency = 9 and rid = 0000852218\n"
     ]
    },
    {
     "data": {
      "text/html": [
       "<div>\n",
       "<table border=\"1\" class=\"dataframe\">\n",
       "  <thead>\n",
       "    <tr style=\"text-align: right;\">\n",
       "      <th></th>\n",
       "      <th>year</th>\n",
       "      <th>agency</th>\n",
       "      <th>rid</th>\n",
       "      <th>loan_type</th>\n",
       "      <th>property_type</th>\n",
       "      <th>loan_purpose</th>\n",
       "      <th>occupancy</th>\n",
       "      <th>preapproval</th>\n",
       "      <th>amount</th>\n",
       "      <th>action</th>\n",
       "      <th>...</th>\n",
       "      <th>lien</th>\n",
       "      <th>edit_status</th>\n",
       "      <th>sequence</th>\n",
       "      <th>population</th>\n",
       "      <th>min_population_pct</th>\n",
       "      <th>median_income</th>\n",
       "      <th>tract_to_msa_income_pct</th>\n",
       "      <th>num_owner_occ_units</th>\n",
       "      <th>num_single_fam_units</th>\n",
       "      <th>app_date_ind</th>\n",
       "    </tr>\n",
       "  </thead>\n",
       "  <tbody>\n",
       "    <tr>\n",
       "      <th>0</th>\n",
       "      <td>2014</td>\n",
       "      <td>0000852218</td>\n",
       "      <td>9</td>\n",
       "      <td>1</td>\n",
       "      <td>1</td>\n",
       "      <td>1</td>\n",
       "      <td>1</td>\n",
       "      <td>00870</td>\n",
       "      <td>3</td>\n",
       "      <td>1</td>\n",
       "      <td>...</td>\n",
       "      <td>1</td>\n",
       "      <td></td>\n",
       "      <td>0024228</td>\n",
       "      <td>00006404</td>\n",
       "      <td>029.53</td>\n",
       "      <td>00094800</td>\n",
       "      <td>117.60</td>\n",
       "      <td>00001942</td>\n",
       "      <td>00002250</td>\n",
       "      <td>0</td>\n",
       "    </tr>\n",
       "    <tr>\n",
       "      <th>1</th>\n",
       "      <td>2014</td>\n",
       "      <td>0000852218</td>\n",
       "      <td>9</td>\n",
       "      <td>1</td>\n",
       "      <td>1</td>\n",
       "      <td>3</td>\n",
       "      <td>1</td>\n",
       "      <td>01140</td>\n",
       "      <td>3</td>\n",
       "      <td>3</td>\n",
       "      <td>...</td>\n",
       "      <td>1</td>\n",
       "      <td>6</td>\n",
       "      <td>0024229</td>\n",
       "      <td>00007603</td>\n",
       "      <td>047.32</td>\n",
       "      <td>00094800</td>\n",
       "      <td>122.69</td>\n",
       "      <td>00001832</td>\n",
       "      <td>00002246</td>\n",
       "      <td>0</td>\n",
       "    </tr>\n",
       "    <tr>\n",
       "      <th>2</th>\n",
       "      <td>2014</td>\n",
       "      <td>0000852218</td>\n",
       "      <td>9</td>\n",
       "      <td>1</td>\n",
       "      <td>1</td>\n",
       "      <td>3</td>\n",
       "      <td>1</td>\n",
       "      <td>00540</td>\n",
       "      <td>3</td>\n",
       "      <td>1</td>\n",
       "      <td>...</td>\n",
       "      <td>1</td>\n",
       "      <td></td>\n",
       "      <td>0024230</td>\n",
       "      <td>00006974</td>\n",
       "      <td>034.80</td>\n",
       "      <td>00094800</td>\n",
       "      <td>146.99</td>\n",
       "      <td>00001898</td>\n",
       "      <td>00002141</td>\n",
       "      <td>0</td>\n",
       "    </tr>\n",
       "    <tr>\n",
       "      <th>3</th>\n",
       "      <td>2014</td>\n",
       "      <td>0000852218</td>\n",
       "      <td>9</td>\n",
       "      <td>1</td>\n",
       "      <td>1</td>\n",
       "      <td>3</td>\n",
       "      <td>1</td>\n",
       "      <td>00310</td>\n",
       "      <td>3</td>\n",
       "      <td>1</td>\n",
       "      <td>...</td>\n",
       "      <td>1</td>\n",
       "      <td></td>\n",
       "      <td>0024231</td>\n",
       "      <td>00004350</td>\n",
       "      <td>063.72</td>\n",
       "      <td>00094800</td>\n",
       "      <td>044.61</td>\n",
       "      <td>00000521</td>\n",
       "      <td>00000112</td>\n",
       "      <td>0</td>\n",
       "    </tr>\n",
       "    <tr>\n",
       "      <th>4</th>\n",
       "      <td>2014</td>\n",
       "      <td>0000852218</td>\n",
       "      <td>9</td>\n",
       "      <td>1</td>\n",
       "      <td>1</td>\n",
       "      <td>3</td>\n",
       "      <td>2</td>\n",
       "      <td>00417</td>\n",
       "      <td>3</td>\n",
       "      <td>3</td>\n",
       "      <td>...</td>\n",
       "      <td>1</td>\n",
       "      <td></td>\n",
       "      <td>0024232</td>\n",
       "      <td>00003499</td>\n",
       "      <td>074.36</td>\n",
       "      <td>00094800</td>\n",
       "      <td>040.27</td>\n",
       "      <td>00000345</td>\n",
       "      <td>00000140</td>\n",
       "      <td>0</td>\n",
       "    </tr>\n",
       "  </tbody>\n",
       "</table>\n",
       "<p>5 rows × 45 columns</p>\n",
       "</div>"
      ],
      "text/plain": [
       "   year      agency rid loan_type property_type loan_purpose occupancy  \\\n",
       "0  2014  0000852218   9         1             1            1         1   \n",
       "1  2014  0000852218   9         1             1            3         1   \n",
       "2  2014  0000852218   9         1             1            3         1   \n",
       "3  2014  0000852218   9         1             1            3         1   \n",
       "4  2014  0000852218   9         1             1            3         2   \n",
       "\n",
       "  preapproval amount action     ...      lien edit_status sequence population  \\\n",
       "0       00870      3      1     ...         1              0024228   00006404   \n",
       "1       01140      3      3     ...         1           6  0024229   00007603   \n",
       "2       00540      3      1     ...         1              0024230   00006974   \n",
       "3       00310      3      1     ...         1              0024231   00004350   \n",
       "4       00417      3      3     ...         1              0024232   00003499   \n",
       "\n",
       "  min_population_pct median_income tract_to_msa_income_pct  \\\n",
       "0             029.53      00094800                  117.60   \n",
       "1             047.32      00094800                  122.69   \n",
       "2             034.80      00094800                  146.99   \n",
       "3             063.72      00094800                  044.61   \n",
       "4             074.36      00094800                  040.27   \n",
       "\n",
       "  num_owner_occ_units num_single_fam_units app_date_ind  \n",
       "0            00001942             00002250            0  \n",
       "1            00001832             00002246            0  \n",
       "2            00001898             00002141            0  \n",
       "3            00000521             00000112            0  \n",
       "4            00000345             00000140            0  \n",
       "\n",
       "[5 rows x 45 columns]"
      ]
     },
     "execution_count": 11,
     "metadata": {},
     "output_type": "execute_result"
    }
   ],
   "source": [
    "conn, cur = connect()\n",
    "pull_FI_LAR(cur, conn, '9', '0000852218', 'hmdalar2014')\n",
    "LAR_df = pd.DataFrame(cur.fetchall())\n"
   ]
  },
  {
   "cell_type": "code",
   "execution_count": 12,
   "metadata": {
    "collapsed": false
   },
   "outputs": [
    {
     "data": {
      "text/html": [
       "<div>\n",
       "<table border=\"1\" class=\"dataframe\">\n",
       "  <thead>\n",
       "    <tr style=\"text-align: right;\">\n",
       "      <th></th>\n",
       "      <th>year</th>\n",
       "      <th>agency</th>\n",
       "      <th>rid</th>\n",
       "      <th>loan_type</th>\n",
       "      <th>property_type</th>\n",
       "      <th>loan_purpose</th>\n",
       "      <th>occupancy</th>\n",
       "      <th>preapproval</th>\n",
       "      <th>amount</th>\n",
       "      <th>action</th>\n",
       "      <th>...</th>\n",
       "      <th>lien</th>\n",
       "      <th>edit_status</th>\n",
       "      <th>sequence</th>\n",
       "      <th>population</th>\n",
       "      <th>min_population_pct</th>\n",
       "      <th>median_income</th>\n",
       "      <th>tract_to_msa_income_pct</th>\n",
       "      <th>num_owner_occ_units</th>\n",
       "      <th>num_single_fam_units</th>\n",
       "      <th>app_date_ind</th>\n",
       "    </tr>\n",
       "  </thead>\n",
       "  <tbody>\n",
       "    <tr>\n",
       "      <th>0</th>\n",
       "      <td>2014</td>\n",
       "      <td>0000852218</td>\n",
       "      <td>9</td>\n",
       "      <td>1</td>\n",
       "      <td>1</td>\n",
       "      <td>1</td>\n",
       "      <td>1</td>\n",
       "      <td>00870</td>\n",
       "      <td>3</td>\n",
       "      <td>1</td>\n",
       "      <td>...</td>\n",
       "      <td>1</td>\n",
       "      <td></td>\n",
       "      <td>0024228</td>\n",
       "      <td>00006404</td>\n",
       "      <td>029.53</td>\n",
       "      <td>00094800</td>\n",
       "      <td>117.60</td>\n",
       "      <td>00001942</td>\n",
       "      <td>00002250</td>\n",
       "      <td>0</td>\n",
       "    </tr>\n",
       "    <tr>\n",
       "      <th>1</th>\n",
       "      <td>2014</td>\n",
       "      <td>0000852218</td>\n",
       "      <td>9</td>\n",
       "      <td>1</td>\n",
       "      <td>1</td>\n",
       "      <td>3</td>\n",
       "      <td>1</td>\n",
       "      <td>01140</td>\n",
       "      <td>3</td>\n",
       "      <td>3</td>\n",
       "      <td>...</td>\n",
       "      <td>1</td>\n",
       "      <td>6</td>\n",
       "      <td>0024229</td>\n",
       "      <td>00007603</td>\n",
       "      <td>047.32</td>\n",
       "      <td>00094800</td>\n",
       "      <td>122.69</td>\n",
       "      <td>00001832</td>\n",
       "      <td>00002246</td>\n",
       "      <td>0</td>\n",
       "    </tr>\n",
       "    <tr>\n",
       "      <th>2</th>\n",
       "      <td>2014</td>\n",
       "      <td>0000852218</td>\n",
       "      <td>9</td>\n",
       "      <td>1</td>\n",
       "      <td>1</td>\n",
       "      <td>3</td>\n",
       "      <td>1</td>\n",
       "      <td>00540</td>\n",
       "      <td>3</td>\n",
       "      <td>1</td>\n",
       "      <td>...</td>\n",
       "      <td>1</td>\n",
       "      <td></td>\n",
       "      <td>0024230</td>\n",
       "      <td>00006974</td>\n",
       "      <td>034.80</td>\n",
       "      <td>00094800</td>\n",
       "      <td>146.99</td>\n",
       "      <td>00001898</td>\n",
       "      <td>00002141</td>\n",
       "      <td>0</td>\n",
       "    </tr>\n",
       "    <tr>\n",
       "      <th>3</th>\n",
       "      <td>2014</td>\n",
       "      <td>0000852218</td>\n",
       "      <td>9</td>\n",
       "      <td>1</td>\n",
       "      <td>1</td>\n",
       "      <td>3</td>\n",
       "      <td>1</td>\n",
       "      <td>00310</td>\n",
       "      <td>3</td>\n",
       "      <td>1</td>\n",
       "      <td>...</td>\n",
       "      <td>1</td>\n",
       "      <td></td>\n",
       "      <td>0024231</td>\n",
       "      <td>00004350</td>\n",
       "      <td>063.72</td>\n",
       "      <td>00094800</td>\n",
       "      <td>044.61</td>\n",
       "      <td>00000521</td>\n",
       "      <td>00000112</td>\n",
       "      <td>0</td>\n",
       "    </tr>\n",
       "    <tr>\n",
       "      <th>4</th>\n",
       "      <td>2014</td>\n",
       "      <td>0000852218</td>\n",
       "      <td>9</td>\n",
       "      <td>1</td>\n",
       "      <td>1</td>\n",
       "      <td>3</td>\n",
       "      <td>2</td>\n",
       "      <td>00417</td>\n",
       "      <td>3</td>\n",
       "      <td>3</td>\n",
       "      <td>...</td>\n",
       "      <td>1</td>\n",
       "      <td></td>\n",
       "      <td>0024232</td>\n",
       "      <td>00003499</td>\n",
       "      <td>074.36</td>\n",
       "      <td>00094800</td>\n",
       "      <td>040.27</td>\n",
       "      <td>00000345</td>\n",
       "      <td>00000140</td>\n",
       "      <td>0</td>\n",
       "    </tr>\n",
       "  </tbody>\n",
       "</table>\n",
       "<p>5 rows × 45 columns</p>\n",
       "</div>"
      ],
      "text/plain": [
       "   year      agency rid loan_type property_type loan_purpose occupancy  \\\n",
       "0  2014  0000852218   9         1             1            1         1   \n",
       "1  2014  0000852218   9         1             1            3         1   \n",
       "2  2014  0000852218   9         1             1            3         1   \n",
       "3  2014  0000852218   9         1             1            3         1   \n",
       "4  2014  0000852218   9         1             1            3         2   \n",
       "\n",
       "  preapproval amount action     ...      lien edit_status sequence population  \\\n",
       "0       00870      3      1     ...         1              0024228   00006404   \n",
       "1       01140      3      3     ...         1           6  0024229   00007603   \n",
       "2       00540      3      1     ...         1              0024230   00006974   \n",
       "3       00310      3      1     ...         1              0024231   00004350   \n",
       "4       00417      3      3     ...         1              0024232   00003499   \n",
       "\n",
       "  min_population_pct median_income tract_to_msa_income_pct  \\\n",
       "0             029.53      00094800                  117.60   \n",
       "1             047.32      00094800                  122.69   \n",
       "2             034.80      00094800                  146.99   \n",
       "3             063.72      00094800                  044.61   \n",
       "4             074.36      00094800                  040.27   \n",
       "\n",
       "  num_owner_occ_units num_single_fam_units app_date_ind  \n",
       "0            00001942             00002250            0  \n",
       "1            00001832             00002246            0  \n",
       "2            00001898             00002141            0  \n",
       "3            00000521             00000112            0  \n",
       "4            00000345             00000140            0  \n",
       "\n",
       "[5 rows x 45 columns]"
      ]
     },
     "execution_count": 12,
     "metadata": {},
     "output_type": "execute_result"
    }
   ],
   "source": [
    "LAR_df.columns= LAR_cols\n",
    "LAR_df.head()"
   ]
  },
  {
   "cell_type": "code",
   "execution_count": 16,
   "metadata": {
    "collapsed": false
   },
   "outputs": [
    {
     "name": "stdout",
     "output_type": "stream",
     "text": [
      "Index([u'year', u'agency', u'rid', u'loan_type', u'property_type',\n",
      "       u'loan_purpose', u'occupancy', u'preapproval', u'amount', u'action',\n",
      "       u'msa', u'state', u'county', u'tract', u'ethnicity', u'co_ethnicity',\n",
      "       u'race1', u'race2', u'race3', u'race4', u'race5', u'co_race1',\n",
      "       u'co_race2', u'co_race3', u'co_race4', u'co_race5', u'sex', u'co_sex',\n",
      "       u'income', u'purchaser', u'denial1', u'denial2', u'denial3',\n",
      "       u'rate_spread', u'hoepa', u'lien', u'edit_status', u'sequence',\n",
      "       u'population', u'min_population_pct', u'median_income',\n",
      "       u'tract_to_msa_income_pct', u'num_owner_occ_units',\n",
      "       u'num_single_fam_units', u'app_date_ind'],\n",
      "      dtype='object')\n"
     ]
    }
   ],
   "source": [
    "print LAR_df.columns"
   ]
  },
  {
   "cell_type": "code",
   "execution_count": 90,
   "metadata": {
    "collapsed": false
   },
   "outputs": [
    {
     "data": {
      "text/plain": [
       "<matplotlib.axes._subplots.AxesSubplot at 0x163197c10>"
      ]
     },
     "execution_count": 90,
     "metadata": {},
     "output_type": "execute_result"
    },
    {
     "data": {
      "image/png": "[encoded data removed]",
      "text/plain": [
       "<matplotlib.figure.Figure at 0x1668fc2d0>"
      ]
     },
     "metadata": {},
     "output_type": "display_data"
    }
   ],
   "source": [
    "#For action type displays without loan type\n",
    "single_family_purchase_df = LAR_df[(LAR_df['property_type']=='1') & (LAR_df['loan_purpose']=='1')\n",
    "      & (LAR_df['lien']=='1') & (LAR_df['occupancy']=='1')]\n",
    "single_purchase = single_family_purchase_df.groupby('action').size()\n",
    "single_purchase = pd.DataFrame(single_purchase)\n",
    "single_purchase.reset_index(inplace=True)\n",
    "single_purchase.columns = ['Action', 'Count_1-4_Fam']\n",
    "single_purchase\n",
    "single_purchase.plot(kind='bar')"
   ]
  },
  {
   "cell_type": "code",
   "execution_count": 97,
   "metadata": {
    "collapsed": false
   },
   "outputs": [
    {
     "ename": "ValueError",
     "evalue": "minlength must be positive",
     "output_type": "error",
     "traceback": [
      "\u001b[0;31m---------------------------------------------------------------------------\u001b[0m",
      "\u001b[0;31mValueError\u001b[0m                                Traceback (most recent call last)",
      "\u001b[0;32m<ipython-input-97-383b1b456ade>\u001b[0m in \u001b[0;36m<module>\u001b[0;34m()\u001b[0m\n\u001b[1;32m      1\u001b[0m \u001b[0;31m#originated portfolio of loans\u001b[0m\u001b[0;34m\u001b[0m\u001b[0;34m\u001b[0m\u001b[0m\n\u001b[1;32m      2\u001b[0m \u001b[0;31m#single_family_purchase_df.groupby('loan_type').size().plot(kind='bar')\u001b[0m\u001b[0;34m\u001b[0m\u001b[0;34m\u001b[0m\u001b[0m\n\u001b[0;32m----> 3\u001b[0;31m \u001b[0msingle_loan_type\u001b[0m \u001b[0;34m=\u001b[0m \u001b[0msingle_family_purchase_df\u001b[0m\u001b[0;34m[\u001b[0m\u001b[0msingle_family_purchase_df\u001b[0m\u001b[0;34m[\u001b[0m\u001b[0;34m'action'\u001b[0m\u001b[0;34m]\u001b[0m\u001b[0;34m==\u001b[0m\u001b[0;36m1\u001b[0m\u001b[0;34m]\u001b[0m\u001b[0;34m.\u001b[0m\u001b[0mgroupby\u001b[0m\u001b[0;34m(\u001b[0m\u001b[0;34m'loan_type'\u001b[0m\u001b[0;34m)\u001b[0m\u001b[0;34m.\u001b[0m\u001b[0msize\u001b[0m\u001b[0;34m(\u001b[0m\u001b[0;34m)\u001b[0m\u001b[0;34m\u001b[0m\u001b[0m\n\u001b[0m\u001b[1;32m      4\u001b[0m \u001b[0msingle_loan_type_df\u001b[0m \u001b[0;34m=\u001b[0m \u001b[0mpd\u001b[0m\u001b[0;34m.\u001b[0m\u001b[0mDataFrame\u001b[0m\u001b[0;34m(\u001b[0m\u001b[0msingle_loan_type\u001b[0m\u001b[0;34m)\u001b[0m\u001b[0;34m\u001b[0m\u001b[0m\n\u001b[1;32m      5\u001b[0m \u001b[0msingle_loan_type_df\u001b[0m\u001b[0;34m\u001b[0m\u001b[0m\n",
      "\u001b[0;32m/Users/roellk/homebrew/lib/python2.7/site-packages/pandas/core/groupby.pyc\u001b[0m in \u001b[0;36msize\u001b[0;34m(self)\u001b[0m\n\u001b[1;32m    820\u001b[0m \u001b[0;34m\u001b[0m\u001b[0m\n\u001b[1;32m    821\u001b[0m         \"\"\"\n\u001b[0;32m--> 822\u001b[0;31m         \u001b[0;32mreturn\u001b[0m \u001b[0mself\u001b[0m\u001b[0;34m.\u001b[0m\u001b[0mgrouper\u001b[0m\u001b[0;34m.\u001b[0m\u001b[0msize\u001b[0m\u001b[0;34m(\u001b[0m\u001b[0;34m)\u001b[0m\u001b[0;34m\u001b[0m\u001b[0m\n\u001b[0m\u001b[1;32m    823\u001b[0m \u001b[0;34m\u001b[0m\u001b[0m\n\u001b[1;32m    824\u001b[0m     \u001b[0msum\u001b[0m \u001b[0;34m=\u001b[0m \u001b[0m_groupby_function\u001b[0m\u001b[0;34m(\u001b[0m\u001b[0;34m'sum'\u001b[0m\u001b[0;34m,\u001b[0m \u001b[0;34m'add'\u001b[0m\u001b[0;34m,\u001b[0m \u001b[0mnp\u001b[0m\u001b[0;34m.\u001b[0m\u001b[0msum\u001b[0m\u001b[0;34m)\u001b[0m\u001b[0;34m\u001b[0m\u001b[0m\n",
      "\u001b[0;32m/Users/roellk/homebrew/lib/python2.7/site-packages/pandas/core/groupby.pyc\u001b[0m in \u001b[0;36msize\u001b[0;34m(self)\u001b[0m\n\u001b[1;32m   1440\u001b[0m         \u001b[0mids\u001b[0m\u001b[0;34m,\u001b[0m \u001b[0m_\u001b[0m\u001b[0;34m,\u001b[0m \u001b[0mngroup\u001b[0m \u001b[0;34m=\u001b[0m \u001b[0mself\u001b[0m\u001b[0;34m.\u001b[0m\u001b[0mgroup_info\u001b[0m\u001b[0;34m\u001b[0m\u001b[0m\n\u001b[1;32m   1441\u001b[0m         \u001b[0mids\u001b[0m \u001b[0;34m=\u001b[0m \u001b[0mcom\u001b[0m\u001b[0;34m.\u001b[0m\u001b[0m_ensure_platform_int\u001b[0m\u001b[0;34m(\u001b[0m\u001b[0mids\u001b[0m\u001b[0;34m)\u001b[0m\u001b[0;34m\u001b[0m\u001b[0m\n\u001b[0;32m-> 1442\u001b[0;31m         \u001b[0mout\u001b[0m \u001b[0;34m=\u001b[0m \u001b[0mnp\u001b[0m\u001b[0;34m.\u001b[0m\u001b[0mbincount\u001b[0m\u001b[0;34m(\u001b[0m\u001b[0mids\u001b[0m\u001b[0;34m[\u001b[0m\u001b[0mids\u001b[0m \u001b[0;34m!=\u001b[0m \u001b[0;34m-\u001b[0m\u001b[0;36m1\u001b[0m\u001b[0;34m]\u001b[0m\u001b[0;34m,\u001b[0m \u001b[0mminlength\u001b[0m\u001b[0;34m=\u001b[0m\u001b[0mngroup\u001b[0m\u001b[0;34m)\u001b[0m\u001b[0;34m\u001b[0m\u001b[0m\n\u001b[0m\u001b[1;32m   1443\u001b[0m         \u001b[0;32mreturn\u001b[0m \u001b[0mSeries\u001b[0m\u001b[0;34m(\u001b[0m\u001b[0mout\u001b[0m\u001b[0;34m,\u001b[0m \u001b[0mindex\u001b[0m\u001b[0;34m=\u001b[0m\u001b[0mself\u001b[0m\u001b[0;34m.\u001b[0m\u001b[0mresult_index\u001b[0m\u001b[0;34m,\u001b[0m \u001b[0mdtype\u001b[0m\u001b[0;34m=\u001b[0m\u001b[0;34m'int64'\u001b[0m\u001b[0;34m)\u001b[0m\u001b[0;34m\u001b[0m\u001b[0m\n\u001b[1;32m   1444\u001b[0m \u001b[0;34m\u001b[0m\u001b[0m\n",
      "\u001b[0;31mValueError\u001b[0m: minlength must be positive"
     ]
    }
   ],
   "source": [
    "#originated portfolio of loans\n",
    "#single_family_purchase_df.groupby('loan_type').size().plot(kind='bar')\n",
    "single_loan_type = single_family_purchase_df[single_family_purchase_df['action']==1].groupby('loan_type').size()\n",
    "single_loan_type_df = pd.DataFrame(single_loan_type)\n",
    "single_loan_type_df\n",
    "#kept, not sold, portfolio of loans\n",
    "#applications by type"
   ]
  },
  {
   "cell_type": "code",
   "execution_count": null,
   "metadata": {
    "collapsed": false
   },
   "outputs": [],
   "source": []
  },
  {
   "cell_type": "code",
   "execution_count": 41,
   "metadata": {
    "collapsed": true
   },
   "outputs": [],
   "source": []
  },
  {
   "cell_type": "code",
   "execution_count": 88,
   "metadata": {
    "collapsed": false
   },
   "outputs": [
    {
     "data": {
      "text/plain": [
       "<matplotlib.axes._subplots.AxesSubplot at 0x155e4dd90>"
      ]
     },
     "execution_count": 88,
     "metadata": {},
     "output_type": "execute_result"
    },
    {
     "data": {
      "image/png": "[encoded data removed]",
      "text/plain": [
       "<matplotlib.figure.Figure at 0x166244050>"
      ]
     },
     "metadata": {},
     "output_type": "display_data"
    }
   ],
   "source": [
    "multifam_purchase_df = LAR_df[(LAR_df['property_type']=='3') & (LAR_df['loan_purpose']=='1') &\n",
    "                              (LAR_df['lien']=='1')]\n",
    "\n",
    "multi_purchase = multifam_purchase_df.groupby('action').size()\n",
    "multi_purchase = pd.DataFrame(multi_purchase)\n",
    "multi_purchase.reset_index(inplace=True)\n",
    "multi_purchase.columns = ['Action', 'Count_Multi']\n",
    "multi_purchase\n",
    "multi_purchase.plot(kind='bar')\n",
    "#add labels of action type to dataframe"
   ]
  },
  {
   "cell_type": "code",
   "execution_count": 72,
   "metadata": {
    "collapsed": false
   },
   "outputs": [],
   "source": [
    "\n",
    "\n"
   ]
  },
  {
   "cell_type": "code",
   "execution_count": null,
   "metadata": {
    "collapsed": false
   },
   "outputs": [],
   "source": []
  },
  {
   "cell_type": "code",
   "execution_count": null,
   "metadata": {
    "collapsed": false
   },
   "outputs": [],
   "source": []
  },
  {
   "cell_type": "code",
   "execution_count": null,
   "metadata": {
    "collapsed": true
   },
   "outputs": [],
   "source": []
  }
 ],
 "metadata": {
  "kernelspec": {
   "display_name": "Python 2",
   "language": "python",
   "name": "python2"
  },
  "language_info": {
   "codemirror_mode": {
    "name": "ipython",
    "version": 2
   },
   "file_extension": ".py",
   "mimetype": "text/x-python",
   "name": "python",
   "nbconvert_exporter": "python",
   "pygments_lexer": "ipython2",
   "version": "2.7.10"
  }
 },
 "nbformat": 4,
 "nbformat_minor": 0
}
